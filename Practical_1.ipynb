{
 "cells": [
  {
   "cell_type": "code",
   "execution_count": null,
   "id": "b399c295",
   "metadata": {},
   "outputs": [],
   "source": [
    "Pactical 1: Implementing Linear Regression (Diabetes Dataset)"
   ]
  },
  {
   "cell_type": "code",
   "execution_count": 3,
   "id": "593ae985",
   "metadata": {
    "scrolled": true
   },
   "outputs": [],
   "source": [
    "# import dependencies\n",
    "import numpy as np\n",
    "import matplotlib.pyplot as plt\n",
    "from sklearn import datasets, linear_model, metrics\n",
    "from sklearn.model_selection import train_test_split\n",
    "from sklearn.metrics import mean_squared_error, r2_score\n",
    "import seaborn as sns"
   ]
  },
  {
   "cell_type": "code",
   "execution_count": 5,
   "id": "feb32f26",
   "metadata": {},
   "outputs": [],
   "source": [
    "# load the dataset-diabetes dataset\n",
    "diabetes=datasets.load_diabetes()"
   ]
  },
  {
   "cell_type": "code",
   "execution_count": 19,
   "id": "6867f957",
   "metadata": {},
   "outputs": [],
   "source": [
    "# get the feature vector and target values\n",
    "X=diabetes.data\n",
    "y=diabetes.target"
   ]
  },
  {
   "cell_type": "code",
   "execution_count": 20,
   "id": "9d0c0a1a",
   "metadata": {},
   "outputs": [],
   "source": [
    "# splitting x and y into training and test  sets\n",
    "X_train, X_test, y_train, y_test=train_test_split(X,y,test_size=0.4, random_state=1)"
   ]
  },
  {
   "cell_type": "code",
   "execution_count": 21,
   "id": "646c2d07",
   "metadata": {},
   "outputs": [],
   "source": [
    "# Create Linear regress object\n",
    "lin_reg=linear_model.LinearRegression()"
   ]
  },
  {
   "cell_type": "code",
   "execution_count": 22,
   "id": "d4040e0c",
   "metadata": {},
   "outputs": [
    {
     "data": {
      "text/plain": [
       "LinearRegression()"
      ]
     },
     "execution_count": 22,
     "metadata": {},
     "output_type": "execute_result"
    }
   ],
   "source": [
    "# Train the model sing training and test data\n",
    "lin_reg.fit(X_train,y_train)"
   ]
  },
  {
   "cell_type": "code",
   "execution_count": 23,
   "id": "81e719fb",
   "metadata": {},
   "outputs": [],
   "source": [
    "# predict  the values for X_test data\n",
    "predicted=lin_reg.predict(X_test)"
   ]
  },
  {
   "cell_type": "code",
   "execution_count": 24,
   "id": "c13f4164",
   "metadata": {},
   "outputs": [
    {
     "name": "stdout",
     "output_type": "stream",
     "text": [
      "\n",
      " Coefficients are :\n",
      " [ -59.73663337 -215.62170919  599.92621335  291.96724002 -829.65206295\n",
      "  544.63994617  164.85191153  224.2392528   768.94426062   70.84982207]\n"
     ]
    }
   ],
   "source": [
    "# Regression Coefficients\n",
    "print(\"\\n Coefficients are :\\n\", lin_reg.coef_)"
   ]
  },
  {
   "cell_type": "code",
   "execution_count": 25,
   "id": "0dfb515f",
   "metadata": {},
   "outputs": [
    {
     "name": "stdout",
     "output_type": "stream",
     "text": [
      "\n",
      " Intercept : 152.89009028286725\n"
     ]
    }
   ],
   "source": [
    "# Intercept\n",
    "print(\"\\n Intercept :\", lin_reg.intercept_)"
   ]
  },
  {
   "cell_type": "code",
   "execution_count": 26,
   "id": "696144a4",
   "metadata": {},
   "outputs": [
    {
     "name": "stdout",
     "output_type": "stream",
     "text": [
      "\n",
      " Varience score: 0.4160439011127657\n"
     ]
    }
   ],
   "source": [
    "# variance score:\n",
    "print(\"\\n Varience score:\", lin_reg.score(X_test,y_test))"
   ]
  },
  {
   "cell_type": "code",
   "execution_count": 27,
   "id": "81d37aff",
   "metadata": {},
   "outputs": [
    {
     "name": "stdout",
     "output_type": "stream",
     "text": [
      "Mean Squarred Error: 2962.93\n",
      "\n"
     ]
    }
   ],
   "source": [
    "# Mean squared error\n",
    "print('Mean Squarred Error: %.2f\\n' % mean_squared_error(y_test,predicted))"
   ]
  },
  {
   "cell_type": "code",
   "execution_count": 29,
   "id": "ed277d19",
   "metadata": {},
   "outputs": [
    {
     "data": {
      "image/png": "[encoded data removed]",
      "text/plain": [
       "<Figure size 432x288 with 1 Axes>"
      ]
     },
     "metadata": {
      "needs_background": "light"
     },
     "output_type": "display_data"
    }
   ],
   "source": [
    "# Original data of X_test\n",
    "expected=y_test\n",
    "# plot graph of expected and predicted values\n",
    "\n",
    "plt.title('Linear Regression on DIABETES DATASET')\n",
    "plt.scatter(expected,predicted, c='b', marker='.', s=36)\n",
    "plt.plot(np.linspace(0,330,100), np.linspace(0,330,100), '--r', linewidth=2 )\n",
    "plt.show()"
   ]
  },
  {
   "cell_type": "code",
   "execution_count": null,
   "id": "0deb5f04",
   "metadata": {},
   "outputs": [],
   "source": []
  }
 ],
 "metadata": {
  "kernelspec": {
   "display_name": "Python 3 (ipykernel)",
   "language": "python",
   "name": "python3"
  },
  "language_info": {
   "codemirror_mode": {
    "name": "ipython",
    "version": 3
   },
   "file_extension": ".py",
   "mimetype": "text/x-python",
   "name": "python",
   "nbconvert_exporter": "python",
   "pygments_lexer": "ipython3",
   "version": "3.10.4"
  }
 },
 "nbformat": 4,
 "nbformat_minor": 5
}
